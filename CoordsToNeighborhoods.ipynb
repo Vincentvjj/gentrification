{
 "cells": [
  {
   "cell_type": "code",
   "execution_count": 13,
   "metadata": {
    "collapsed": false
   },
   "outputs": [
    {
     "name": "stdout",
     "output_type": "stream",
     "text": [
      "hue\n",
      "Found containing polygon: University District\n"
     ]
    }
   ],
   "source": [
    "import json\n",
    "import csv\n",
    "from shapely.geometry import shape, Point\n",
    "# load GeoJSON file containing sectors\n",
    "#with ('GEOJSONNeighborhoods.json', 'r') as f:\n",
    "with open('GEOJSONNeighborhoods.json') as f:  \n",
    "    js = json.load(f)\n",
    "\n",
    "# construct point based on lat/long returned by geocoder\n",
    "point = Point(47.655425, -122.306299)\n",
    "with open('crimes.csv', 'rb') as csvfile:\n",
    "     spamreader = csv.reader(csvfile, delimiter=' ', quotechar='|')\n",
    "     print(spamreader.)\n",
    "     for row in spamreader:\n",
    "         print(row)\n",
    "        \n",
    "point = Point(-122.306299, 47.655425)\n",
    "\n",
    "# check each polygon to see if it contains the point\n",
    "for feature in js['features']: \n",
    "    polygon = shape(feature['geometry'])\n",
    "    if polygon.contains(point):\n",
    "        print ('Found containing polygon:', feature['properties']['S_HOOD'])"
   ]
  },
  {
   "cell_type": "code",
   "execution_count": null,
   "metadata": {
    "collapsed": true
   },
   "outputs": [],
   "source": []
  }
 ],
 "metadata": {
  "kernelspec": {
   "display_name": "Python 3",
   "language": "python",
   "name": "python3"
  },
  "language_info": {
   "codemirror_mode": {
    "name": "ipython",
    "version": 3
   },
   "file_extension": ".py",
   "mimetype": "text/x-python",
   "name": "python",
   "nbconvert_exporter": "python",
   "pygments_lexer": "ipython3",
   "version": "3.4.4"
  }
 },
 "nbformat": 4,
 "nbformat_minor": 0
}
